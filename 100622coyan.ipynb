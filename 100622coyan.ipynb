{
 "cells": [
  {
   "cell_type": "code",
   "execution_count": 18,
   "id": "09ebe7d0-f2f6-4128-b3cd-73614d384ae2",
   "metadata": {},
   "outputs": [
    {
     "name": "stdout",
     "output_type": "stream",
     "text": [
      "                   HEIGHTTC_A\n",
      "LSATIS11R_A SEX_A            \n",
      "0           1       72.430769\n",
      "            2       66.092105\n",
      "1           1       71.621622\n",
      "            2       67.264706\n",
      "2           1       70.480769\n",
      "            2       68.839286\n",
      "3           1       71.885714\n",
      "            2       67.096774\n",
      "4           1       73.006993\n",
      "            2       68.027624\n",
      "5           1       72.721408\n",
      "            2       66.643275\n",
      "6           1       72.431900\n",
      "            2       66.769764\n",
      "7           1       71.921648\n",
      "            2       66.330127\n",
      "8           1       71.800448\n",
      "            2       66.210385\n",
      "9           1       71.305233\n",
      "            2       65.805181\n",
      "            7       96.000000\n",
      "10          1       71.490377\n",
      "            2       66.158643\n",
      "            9       96.000000\n",
      "97          1       71.500000\n",
      "            2       66.212121\n",
      "98          1       71.434211\n",
      "            2       65.962963\n",
      "99          1       74.745763\n",
      "            2       65.557377\n"
     ]
    },
    {
     "data": {
      "text/plain": [
       "<AxesSubplot:xlabel='LSATIS11R_A', ylabel='HEIGHTTC_A'>"
      ]
     },
     "execution_count": 18,
     "metadata": {},
     "output_type": "execute_result"
    },
    {
     "data": {
      "image/png": "[encoded data removed]",
      "text/plain": [
       "<Figure size 432x288 with 1 Axes>"
      ]
     },
     "metadata": {
      "needs_background": "light"
     },
     "output_type": "display_data"
    }
   ],
   "source": [
    "import pandas as pd\n",
    "data = pd.read_csv(\"adult21.csv\")\n",
    "#data[\"LSATIS4R_A\"].info()\n",
    "#data[\"LSATIS4R_A\"].value_counts()\n",
    "h = data.groupby([\"LSATIS11R_A\", \"SEX_A\"], as_index = True)[\"HEIGHTTC_A\"].mean()\n",
    "ha = pd.DataFrame(h)\n",
    "print(ha.to_string())\n",
    "import seaborn\n",
    "seaborn.histplot(data = ha, x = \"LSATIS11R_A\", y = \"HEIGHTTC_A\", hue = \"SEX_A\")"
   ]
  }
 ],
 "metadata": {
  "kernelspec": {
   "display_name": "Python 3 (ipykernel)",
   "language": "python",
   "name": "python3"
  },
  "language_info": {
   "codemirror_mode": {
    "name": "ipython",
    "version": 3
   },
   "file_extension": ".py",
   "mimetype": "text/x-python",
   "name": "python",
   "nbconvert_exporter": "python",
   "pygments_lexer": "ipython3",
   "version": "3.9.12"
  }
 },
 "nbformat": 4,
 "nbformat_minor": 5
}
